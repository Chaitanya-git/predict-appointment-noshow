{
 "cells": [
  {
   "cell_type": "markdown",
   "metadata": {},
   "source": [
    "This notebook requires [Featuretools](https://github.com/Featuretools/featuretools) version 0.1.17 or higher. To get started, download data from [Kaggle](https://www.kaggle.com/joniarroba/noshowappointments/data) on appointment noshows into a `data` folder in this directory.\n"
   ]
  },
  {
   "cell_type": "code",
   "execution_count": 1,
   "metadata": {},
   "outputs": [
    {
     "data": {
      "text/plain": [
       "'0.1.17'"
      ]
     },
     "execution_count": 1,
     "metadata": {},
     "output_type": "execute_result"
    }
   ],
   "source": [
    "import numpy as np\n",
    "import pandas as pd\n",
    "import featuretools as ft\n",
    "ft.__version__"
   ]
  },
  {
   "cell_type": "markdown",
   "metadata": {},
   "source": [
    "# Step 1: Set an EntitySet structure for Featuretools"
   ]
  },
  {
   "cell_type": "code",
   "execution_count": 2,
   "metadata": {
    "collapsed": true
   },
   "outputs": [],
   "source": [
    "data = pd.read_csv(\"data/KaggleV2-May-2016.csv\")\n",
    "data.index = data['AppointmentID']\n",
    "data.rename(columns = {'Hipertension': 'Hypertension',\n",
    "                       'Handcap': 'Handicap',\n",
    "                       'PatientId': 'PatientID',\n",
    "                       'No-show': 'NoShow'}, inplace = True)\n",
    "data['NoShow'] = data['NoShow'].map({'No': 0, 'Yes': 1})\n",
    "data.head()\n",
    "\n",
    "cutoff_times = data[['AppointmentID', 'AppointmentDay']]"
   ]
  },
  {
   "cell_type": "code",
   "execution_count": 3,
   "metadata": {},
   "outputs": [
    {
     "data": {
      "text/plain": [
       "Entityset: appointment_data\n",
       "  Entities:\n",
       "    appointments (shape = [110527, 14])\n",
       "    patients (shape = [62299, 2])\n",
       "    ages (shape = [104, 1])\n",
       "    genders (shape = [2, 1])\n",
       "  Relationships:\n",
       "    appointments.PatientID -> patients.PatientID\n",
       "    appointments.Age -> ages.Age\n",
       "    appointments.Gender -> genders.Gender"
      ]
     },
     "execution_count": 3,
     "metadata": {},
     "output_type": "execute_result"
    }
   ],
   "source": [
    "import featuretools.variable_types as vtypes\n",
    "\n",
    "# Give featuretools column metadata\n",
    "variable_types = {'Gender': vtypes.Categorical,\n",
    "                  'Age': vtypes.Categorical,\n",
    "                  'Scholarship': vtypes.Boolean,\n",
    "                  'Hypertension': vtypes.Boolean,\n",
    "                  'Diabetes': vtypes.Boolean,\n",
    "                  'Alcoholism': vtypes.Boolean,\n",
    "                  'Handicap': vtypes.Boolean,\n",
    "                  'ScheduledDay': vtypes.Datetime, \n",
    "                  'AppointmentDay': vtypes.Datetime,\n",
    "                  'Neighbourhood': vtypes.Categorical,\n",
    "                  'NoShow': vtypes.Boolean,\n",
    "                  'SMS_received': vtypes.Boolean}\n",
    "\n",
    "# Create an `EntitySet` named `appointment_data`\n",
    "es = ft.EntitySet('appointment_data')\n",
    "\n",
    "# Make an entity named 'appointments' which stores dataset metadata with the dataframe\n",
    "es = es.entity_from_dataframe(entity_id=\"appointments\",\n",
    "                              dataframe=data,\n",
    "                              index='AppointmentID',\n",
    "                              time_index='ScheduledDay',\n",
    "                              secondary_time_index={'AppointmentDay': ['NoShow', 'SMS_received']},\n",
    "                              variable_types=variable_types)\n",
    "\n",
    "es.normalize_entity('appointments', 'patients', 'PatientID', \n",
    "                    make_time_index=True)\n",
    "es.normalize_entity('appointments', 'ages', 'Age',\n",
    "                    make_time_index=False)\n",
    "es.normalize_entity('appointments', 'genders', 'Gender',\n",
    "                    make_time_index=False)"
   ]
  },
  {
   "cell_type": "markdown",
   "metadata": {},
   "source": [
    "# Step 2: Create features with Deep Feature Synthesis"
   ]
  },
  {
   "cell_type": "code",
   "execution_count": null,
   "metadata": {
    "collapsed": true
   },
   "outputs": [],
   "source": [
    "# Custom primitive: TODO fix to correctly incorporate label data while training\n",
    "from featuretools.primitives import make_agg_primitive\n",
    "def probability(boolean):\n",
    "    numtrue = len([x for x in boolean if x==1])\n",
    "    return numtrue/len(boolean)\n",
    "\n",
    "Prob = make_agg_primitive(probability,\n",
    "                          input_types=[vtypes.Boolean],\n",
    "                          return_type=vtypes.Numeric)\n",
    "    \n",
    "    "
   ]
  },
  {
   "cell_type": "code",
   "execution_count": null,
   "metadata": {},
   "outputs": [
    {
     "name": "stdout",
     "output_type": "stream",
     "text": [
      "Building features: 74it [00:00, 7838.24it/s]\n",
      "Progress:  59%|█████▉    | 16/27 [00:35<00:24,  2.24s/cutoff time]"
     ]
    }
   ],
   "source": [
    "from featuretools.primitives import Weekday, Hour, Count\n",
    "fm, features = ft.dfs(entityset=es,\n",
    "                      target_entity='appointments',\n",
    "                      agg_primitives=[Prob, Count],\n",
    "                      trans_primitives=[Weekday, Hour],\n",
    "                      max_depth=3,\n",
    "                      drop_contains=['AppointmentDay'],\n",
    "                      cutoff_time=cutoff_times,\n",
    "                      features_only=False,\n",
    "                      verbose=True)\n",
    "fm, features = ft.synthesis.encode_features(fm, features, \n",
    "                                            top_n=5, \n",
    "                                            include_unknown=False, \n",
    "                                            to_encode=['Neighbourhood', 'Gender'], \n",
    "                                            inplace=False, \n",
    "                                            verbose=True)\n",
    "fm.tail(20)"
   ]
  },
  {
   "cell_type": "markdown",
   "metadata": {},
   "source": [
    "# Step 3: Predict"
   ]
  },
  {
   "cell_type": "code",
   "execution_count": null,
   "metadata": {
    "collapsed": true
   },
   "outputs": [],
   "source": [
    "from sklearn.model_selection import train_test_split\n",
    "#labels = fm.pop('NoShow')\n",
    "labels = es['appointments'].df['NoShow']\n",
    "X_train, X_test, y_train, y_test = train_test_split(fm, labels, test_size=0.40)\n"
   ]
  },
  {
   "cell_type": "code",
   "execution_count": null,
   "metadata": {
    "collapsed": true
   },
   "outputs": [],
   "source": [
    "from sklearn.ensemble import RandomForestClassifier\n",
    "clf = RandomForestClassifier(n_estimators=50)\n",
    "clf.fit(X_train, y_train)\n",
    "preds = clf.predict(X_test)"
   ]
  },
  {
   "cell_type": "code",
   "execution_count": null,
   "metadata": {},
   "outputs": [],
   "source": [
    "from sklearn.metrics import accuracy_score, roc_auc_score\n",
    "print(accuracy_score(preds, y_test))\n",
    "print(roc_auc_score(preds, y_test))"
   ]
  },
  {
   "cell_type": "code",
   "execution_count": null,
   "metadata": {},
   "outputs": [],
   "source": [
    "feature_imps = [(imp, fm.columns[i]) for i, imp in enumerate(clf.feature_importances_)]\n",
    "feature_imps.sort()\n",
    "feature_imps.reverse()\n",
    "feature_imps[0:20]\n"
   ]
  },
  {
   "cell_type": "code",
   "execution_count": null,
   "metadata": {},
   "outputs": [],
   "source": [
    "# Demonstrates time handling: prob is 0 for everything to first cutoff time and then\n",
    "# updates every cutoff time as time goes on.\n",
    "fm[['Age','ages.PROBABILITY(appointments.NoShow)']]"
   ]
  },
  {
   "cell_type": "code",
   "execution_count": null,
   "metadata": {
    "collapsed": true
   },
   "outputs": [],
   "source": []
  }
 ],
 "metadata": {
  "kernelspec": {
   "display_name": "Python 3",
   "language": "python",
   "name": "python3"
  },
  "language_info": {
   "codemirror_mode": {
    "name": "ipython",
    "version": 3
   },
   "file_extension": ".py",
   "mimetype": "text/x-python",
   "name": "python",
   "nbconvert_exporter": "python",
   "pygments_lexer": "ipython3",
   "version": "3.6.2"
  }
 },
 "nbformat": 4,
 "nbformat_minor": 2
}
